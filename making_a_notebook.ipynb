{
 "cells": [
  {
   "cell_type": "markdown",
   "id": "13ddb652-4f64-409e-a420-05ba7f5b4fa6",
   "metadata": {},
   "source": [
    "# My Jupyter Notebook on \"IBM Watson Studio\""
   ]
  },
  {
   "cell_type": "markdown",
   "id": "c8296933-92a0-4ca2-98ba-4e9768948e09",
   "metadata": {},
   "source": [
    "**Patrick Rostock**\n",
    "Data Analyst"
   ]
  },
  {
   "cell_type": "markdown",
   "id": "a0f7fa5d-583e-473a-b5ac-78362987ff22",
   "metadata": {},
   "source": [
    "*I'm interested in data science because of the vast amount of areas that can be explored with it.*"
   ]
  },
  {
   "cell_type": "markdown",
   "id": "4f47f445-edbd-430c-9a19-8fe9f3b5bc96",
   "metadata": {},
   "source": [
    "### In the following cell, I will be writing some very difficult code which prints \"Hello Everyone\""
   ]
  },
  {
   "cell_type": "code",
   "execution_count": 2,
   "id": "4f85cc01-13e1-4273-a917-21cc34e238d3",
   "metadata": {},
   "outputs": [
    {
     "name": "stdout",
     "output_type": "stream",
     "text": [
      "Hello Everyone\n"
     ]
    }
   ],
   "source": [
    "print('Hello Everyone')"
   ]
  },
  {
   "cell_type": "markdown",
   "id": "d8678ee7-2cdf-4b12-960c-2841ae8b13aa",
   "metadata": {},
   "source": [
    "Here's a section where we're gonna show off some:\n",
    "* Bulleted list 1\n",
    "* Bulleted list 2\n",
    "\n",
    "1. Numbered list 1 and\n",
    "2. Numbered list 2\n",
    "\n",
    "***\n",
    "And maybe even a horizontal rule.\n",
    "***\n",
    "\n",
    "Maybe I'll even highlight some code:\n",
    "\n",
    "`print('like this dudes')`"
   ]
  }
 ],
 "metadata": {
  "kernelspec": {
   "display_name": "Python",
   "language": "python",
   "name": "conda-env-python-py"
  },
  "language_info": {
   "codemirror_mode": {
    "name": "ipython",
    "version": 3
   },
   "file_extension": ".py",
   "mimetype": "text/x-python",
   "name": "python",
   "nbconvert_exporter": "python",
   "pygments_lexer": "ipython3",
   "version": "3.7.12"
  }
 },
 "nbformat": 4,
 "nbformat_minor": 5
}
